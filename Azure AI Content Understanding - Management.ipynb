{
 "cells": [
  {
   "cell_type": "markdown",
   "metadata": {},
   "source": [
    "# Azure AI Content Understanding\n",
    "## Management\n",
    "\n",
    "<img src=\"https://learn.microsoft.com/en-us/azure/ai-services/content-understanding/media/overview/component-overview.png\">\n",
    "\n",
    "https://learn.microsoft.com/en-us/azure/ai-services/content-understanding/overview"
   ]
  },
  {
   "cell_type": "code",
   "execution_count": 1,
   "metadata": {},
   "outputs": [],
   "source": [
    "import json\n",
    "import os\n",
    "import sys\n",
    "\n",
    "from azure.identity import DefaultAzureCredential, get_bearer_token_provider\n",
    "from azure_content_understanding import AzureContentUnderstandingClient\n",
    "from dotenv import load_dotenv"
   ]
  },
  {
   "cell_type": "markdown",
   "metadata": {},
   "source": [
    "## 1. Settings"
   ]
  },
  {
   "cell_type": "code",
   "execution_count": 2,
   "metadata": {},
   "outputs": [
    {
     "data": {
      "text/plain": [
       "'3.10.14 (main, May  6 2024, 19:42:50) [GCC 11.2.0]'"
      ]
     },
     "execution_count": 2,
     "metadata": {},
     "output_type": "execute_result"
    }
   ],
   "source": [
    "sys.version"
   ]
  },
  {
   "cell_type": "code",
   "execution_count": 3,
   "metadata": {},
   "outputs": [],
   "source": [
    "load_dotenv(\"azure.env\")\n",
    "\n",
    "AZURE_AI_ENDPOINT = os.getenv(\"AZURE_AI_ENDPOINT\")"
   ]
  },
  {
   "cell_type": "code",
   "execution_count": 4,
   "metadata": {},
   "outputs": [],
   "source": [
    "AZURE_AI_API_VERSION = \"2024-12-01-preview\""
   ]
  },
  {
   "cell_type": "code",
   "execution_count": 5,
   "metadata": {},
   "outputs": [],
   "source": [
    "credential = DefaultAzureCredential()\n",
    "token_provider = get_bearer_token_provider(\n",
    "    credential, \"https://cognitiveservices.azure.com/.default\")\n",
    "\n",
    "client = AzureContentUnderstandingClient(\n",
    "    endpoint=AZURE_AI_ENDPOINT,\n",
    "    api_version=AZURE_AI_API_VERSION,\n",
    "    token_provider=token_provider,\n",
    "    x_ms_useragent=\n",
    "    \"azure-ai-content-understanding-python/content_extraction\",  # This header is used for sample usage telemetry\n",
    ")"
   ]
  },
  {
   "cell_type": "markdown",
   "metadata": {},
   "source": [
    "## List all analysers"
   ]
  },
  {
   "cell_type": "code",
   "execution_count": 11,
   "metadata": {},
   "outputs": [
    {
     "name": "stdout",
     "output_type": "stream",
     "text": [
      "Number of analyzers in your resource = 2\n"
     ]
    }
   ],
   "source": [
    "response = client.get_all_analyzers()\n",
    "\n",
    "print(f\"Number of analyzers in your resource = {len(response['value'])}\")"
   ]
  },
  {
   "cell_type": "code",
   "execution_count": 12,
   "metadata": {},
   "outputs": [
    {
     "name": "stdout",
     "output_type": "stream",
     "text": [
      "Analyzer details: [\n",
      "    {\n",
      "        \"analyzerId\": \"prebuilt-read\",\n",
      "        \"description\": \"Extract content elements such as words, barcodes, and formulas from documents.\",\n",
      "        \"config\": {\n",
      "            \"returnDetails\": true,\n",
      "            \"enableOcr\": true,\n",
      "            \"enableLayout\": false,\n",
      "            \"enableBarcode\": false,\n",
      "            \"enableFormula\": false\n",
      "        },\n",
      "        \"warnings\": [],\n",
      "        \"status\": \"undefined\",\n",
      "        \"scenario\": \"document\"\n",
      "    },\n",
      "    {\n",
      "        \"analyzerId\": \"prebuilt-layout\",\n",
      "        \"description\": \"Extract various content and layout elements such as words, paragraphs, and tables from documents.\",\n",
      "        \"config\": {\n",
      "            \"returnDetails\": true,\n",
      "            \"enableOcr\": true,\n",
      "            \"enableLayout\": true,\n",
      "            \"enableBarcode\": false,\n",
      "            \"enableFormula\": false\n",
      "        },\n",
      "        \"warnings\": [],\n",
      "        \"status\": \"undefined\",\n",
      "        \"scenario\": \"document\"\n",
      "    }\n",
      "]\n"
     ]
    }
   ],
   "source": [
    "print(f\"Analyzer details: {json.dumps(response['value'], indent=4)}\")"
   ]
  },
  {
   "cell_type": "code",
   "execution_count": 17,
   "metadata": {},
   "outputs": [
    {
     "name": "stdout",
     "output_type": "stream",
     "text": [
      "1 prebuilt-read\n",
      "2 prebuilt-layout\n"
     ]
    }
   ],
   "source": [
    "for idx, item in enumerate(response['value'], start=1):\n",
    "    print(idx, item['analyzerId'])"
   ]
  },
  {
   "cell_type": "code",
   "execution_count": 8,
   "metadata": {},
   "outputs": [],
   "source": [
    "ANALYZER_ID = \"field-extraction-sample-e37b3551-f4cf-4397-bd50-aacd083b2daa\""
   ]
  },
  {
   "cell_type": "code",
   "execution_count": 9,
   "metadata": {},
   "outputs": [
    {
     "name": "stdout",
     "output_type": "stream",
     "text": [
      "{\n",
      "    \"analyzerId\": \"field-extraction-sample-e37b3551-f4cf-4397-bd50-aacd083b2daa\",\n",
      "    \"description\": \"Extract detailed structured information from charts and diagrams.\",\n",
      "    \"createdAt\": \"2025-01-27T15:12:50Z\",\n",
      "    \"lastModifiedAt\": \"2025-01-27T15:12:50Z\",\n",
      "    \"config\": {\n",
      "        \"returnDetails\": false\n",
      "    },\n",
      "    \"fieldSchema\": {\n",
      "        \"name\": \"ChartAndDiagram\",\n",
      "        \"description\": \"Structured information from charts and diagrams.\",\n",
      "        \"fields\": {\n",
      "            \"Title\": {\n",
      "                \"type\": \"string\",\n",
      "                \"method\": \"generate\",\n",
      "                \"description\": \"Verbatim title of the chart.\"\n",
      "            },\n",
      "            \"ChartType\": {\n",
      "                \"type\": \"string\",\n",
      "                \"method\": \"classify\",\n",
      "                \"description\": \"The type of chart.\",\n",
      "                \"enum\": [\n",
      "                    \"area\",\n",
      "                    \"bar\",\n",
      "                    \"box\",\n",
      "                    \"bubble\",\n",
      "                    \"candlestick\",\n",
      "                    \"funnel\",\n",
      "                    \"heatmap\",\n",
      "                    \"histogram\",\n",
      "                    \"line\",\n",
      "                    \"pie\",\n",
      "                    \"radar\",\n",
      "                    \"rings\",\n",
      "                    \"rose\",\n",
      "                    \"treemap\"\n",
      "                ],\n",
      "                \"enumDescriptions\": {\n",
      "                    \"histogram\": \"Continuous values on the x-axis, which distinguishes it from bar.\",\n",
      "                    \"rose\": \"In contrast to pie charts, the sectors are of equal angles and differ in how far each sector extends from the center of the circle.\"\n",
      "                }\n",
      "            },\n",
      "            \"TopicKeywords\": {\n",
      "                \"type\": \"array\",\n",
      "                \"method\": \"generate\",\n",
      "                \"description\": \"Relevant topics associated with the chart, used for tagging.\",\n",
      "                \"items\": {\n",
      "                    \"type\": \"string\",\n",
      "                    \"method\": \"generate\",\n",
      "                    \"examples\": [\n",
      "                        \"Business and finance\",\n",
      "                        \"Arts and culture\",\n",
      "                        \"Education and academics\"\n",
      "                    ]\n",
      "                }\n",
      "            },\n",
      "            \"DetailedDescription\": {\n",
      "                \"type\": \"string\",\n",
      "                \"method\": \"generate\",\n",
      "                \"description\": \"Detailed description of the chart or diagram, not leaving out any key information. Include numbers, trends, and other details.\"\n",
      "            },\n",
      "            \"Summary\": {\n",
      "                \"type\": \"string\",\n",
      "                \"method\": \"generate\",\n",
      "                \"description\": \"Detailed summary of the chart, including highlights and takeaways.\"\n",
      "            },\n",
      "            \"MarkdownDataTable\": {\n",
      "                \"type\": \"string\",\n",
      "                \"method\": \"generate\",\n",
      "                \"description\": \"Underlying data of the chart in tabular markdown format. Give markdown output with valid syntax and accurate numbers, and fill any uncertain values with empty cells. If not applicable, output an empty string.\"\n",
      "            },\n",
      "            \"AxisTitles\": {\n",
      "                \"type\": \"object\",\n",
      "                \"method\": \"generate\",\n",
      "                \"description\": \"Titles of the x and y axes.\",\n",
      "                \"properties\": {\n",
      "                    \"xAxisTitle\": {\n",
      "                        \"type\": \"string\",\n",
      "                        \"method\": \"generate\"\n",
      "                    },\n",
      "                    \"yAxisTitle\": {\n",
      "                        \"type\": \"string\",\n",
      "                        \"method\": \"generate\"\n",
      "                    }\n",
      "                }\n",
      "            },\n",
      "            \"FootnotesAndAnnotations\": {\n",
      "                \"type\": \"string\",\n",
      "                \"method\": \"generate\",\n",
      "                \"description\": \"All footnotes and textual annotations in the chart or diagram.\"\n",
      "            }\n",
      "        }\n",
      "    },\n",
      "    \"warnings\": [],\n",
      "    \"status\": \"ready\",\n",
      "    \"scenario\": \"image\"\n",
      "}\n"
     ]
    }
   ],
   "source": [
    "result = client.get_analyzer_detail_by_id(ANALYZER_ID)\n",
    "\n",
    "print(json.dumps(result, indent=4))"
   ]
  },
  {
   "cell_type": "markdown",
   "metadata": {},
   "source": [
    "## Deletion of an analyzer"
   ]
  },
  {
   "cell_type": "code",
   "execution_count": 10,
   "metadata": {},
   "outputs": [
    {
     "data": {
      "text/plain": [
       "<Response [204]>"
      ]
     },
     "execution_count": 10,
     "metadata": {},
     "output_type": "execute_result"
    }
   ],
   "source": [
    "client.delete_analyzer(ANALYZER_ID)"
   ]
  },
  {
   "cell_type": "code",
   "execution_count": null,
   "metadata": {},
   "outputs": [],
   "source": []
  }
 ],
 "metadata": {
  "kernelspec": {
   "display_name": "Python 3.10 - SDK v2",
   "language": "python",
   "name": "python310-sdkv2"
  },
  "language_info": {
   "codemirror_mode": {
    "name": "ipython",
    "version": 3
   },
   "file_extension": ".py",
   "mimetype": "text/x-python",
   "name": "python",
   "nbconvert_exporter": "python",
   "pygments_lexer": "ipython3",
   "version": "3.10.14"
  },
  "varInspector": {
   "cols": {
    "lenName": 16,
    "lenType": 16,
    "lenVar": 40
   },
   "kernels_config": {
    "python": {
     "delete_cmd_postfix": "",
     "delete_cmd_prefix": "del ",
     "library": "var_list.py",
     "varRefreshCmd": "print(var_dic_list())"
    },
    "r": {
     "delete_cmd_postfix": ") ",
     "delete_cmd_prefix": "rm(",
     "library": "var_list.r",
     "varRefreshCmd": "cat(var_dic_list()) "
    }
   },
   "types_to_exclude": [
    "module",
    "function",
    "builtin_function_or_method",
    "instance",
    "_Feature"
   ],
   "window_display": false
  }
 },
 "nbformat": 4,
 "nbformat_minor": 4
}
